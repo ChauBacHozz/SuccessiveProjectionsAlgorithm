{
 "cells": [
  {
   "cell_type": "code",
   "execution_count": 57,
   "metadata": {},
   "outputs": [],
   "source": [
    "import numpy as np\n",
    "import matplotlib.pyplot as plt\n",
    "import pandas as pd"
   ]
  },
  {
   "cell_type": "code",
   "execution_count": 58,
   "metadata": {},
   "outputs": [
    {
     "data": {
      "text/html": [
       "<div>\n",
       "<style scoped>\n",
       "    .dataframe tbody tr th:only-of-type {\n",
       "        vertical-align: middle;\n",
       "    }\n",
       "\n",
       "    .dataframe tbody tr th {\n",
       "        vertical-align: top;\n",
       "    }\n",
       "\n",
       "    .dataframe thead th {\n",
       "        text-align: right;\n",
       "    }\n",
       "</style>\n",
       "<table border=\"1\" class=\"dataframe\">\n",
       "  <thead>\n",
       "    <tr style=\"text-align: right;\">\n",
       "      <th></th>\n",
       "      <th>No.</th>\n",
       "      <th>Name</th>\n",
       "      <th>Group</th>\n",
       "      <th>%CM</th>\n",
       "      <th>%CA</th>\n",
       "      <th>%CAL</th>\n",
       "      <th>600</th>\n",
       "      <th>602</th>\n",
       "      <th>604</th>\n",
       "      <th>606</th>\n",
       "      <th>...</th>\n",
       "      <th>3982</th>\n",
       "      <th>3984</th>\n",
       "      <th>3986</th>\n",
       "      <th>3988</th>\n",
       "      <th>3990</th>\n",
       "      <th>3992</th>\n",
       "      <th>3994</th>\n",
       "      <th>3996</th>\n",
       "      <th>3998</th>\n",
       "      <th>4000</th>\n",
       "    </tr>\n",
       "  </thead>\n",
       "  <tbody>\n",
       "    <tr>\n",
       "      <th>0</th>\n",
       "      <td>1.0</td>\n",
       "      <td>21.1.8.YB-13</td>\n",
       "      <td>1.0</td>\n",
       "      <td>2.57</td>\n",
       "      <td>0.09</td>\n",
       "      <td>9.83</td>\n",
       "      <td>0.222</td>\n",
       "      <td>0.223</td>\n",
       "      <td>0.221</td>\n",
       "      <td>0.217</td>\n",
       "      <td>...</td>\n",
       "      <td>-0.006</td>\n",
       "      <td>-0.006</td>\n",
       "      <td>-0.006</td>\n",
       "      <td>-0.006</td>\n",
       "      <td>-0.006</td>\n",
       "      <td>-0.006</td>\n",
       "      <td>-0.006</td>\n",
       "      <td>-0.006</td>\n",
       "      <td>-0.006</td>\n",
       "      <td>-0.006</td>\n",
       "    </tr>\n",
       "    <tr>\n",
       "      <th>1</th>\n",
       "      <td>2.0</td>\n",
       "      <td>21.1.8.YB-24</td>\n",
       "      <td>1.0</td>\n",
       "      <td>0.69</td>\n",
       "      <td>0.04</td>\n",
       "      <td>3.75</td>\n",
       "      <td>0.263</td>\n",
       "      <td>0.261</td>\n",
       "      <td>0.257</td>\n",
       "      <td>0.257</td>\n",
       "      <td>...</td>\n",
       "      <td>-0.007</td>\n",
       "      <td>-0.007</td>\n",
       "      <td>-0.007</td>\n",
       "      <td>-0.007</td>\n",
       "      <td>-0.006</td>\n",
       "      <td>-0.007</td>\n",
       "      <td>-0.007</td>\n",
       "      <td>-0.007</td>\n",
       "      <td>-0.007</td>\n",
       "      <td>-0.007</td>\n",
       "    </tr>\n",
       "    <tr>\n",
       "      <th>2</th>\n",
       "      <td>3.0</td>\n",
       "      <td>21.1.8.YB-38</td>\n",
       "      <td>1.0</td>\n",
       "      <td>0.43</td>\n",
       "      <td>0.05</td>\n",
       "      <td>5.53</td>\n",
       "      <td>0.252</td>\n",
       "      <td>0.253</td>\n",
       "      <td>0.253</td>\n",
       "      <td>0.252</td>\n",
       "      <td>...</td>\n",
       "      <td>-0.006</td>\n",
       "      <td>-0.007</td>\n",
       "      <td>-0.007</td>\n",
       "      <td>-0.007</td>\n",
       "      <td>-0.006</td>\n",
       "      <td>-0.007</td>\n",
       "      <td>-0.007</td>\n",
       "      <td>-0.007</td>\n",
       "      <td>-0.007</td>\n",
       "      <td>-0.007</td>\n",
       "    </tr>\n",
       "    <tr>\n",
       "      <th>3</th>\n",
       "      <td>4.0</td>\n",
       "      <td>21.1.8.YB-40</td>\n",
       "      <td>1.0</td>\n",
       "      <td>2.04</td>\n",
       "      <td>0.06</td>\n",
       "      <td>5.21</td>\n",
       "      <td>0.259</td>\n",
       "      <td>0.258</td>\n",
       "      <td>0.259</td>\n",
       "      <td>0.259</td>\n",
       "      <td>...</td>\n",
       "      <td>-0.008</td>\n",
       "      <td>-0.009</td>\n",
       "      <td>-0.009</td>\n",
       "      <td>-0.009</td>\n",
       "      <td>-0.008</td>\n",
       "      <td>-0.008</td>\n",
       "      <td>-0.008</td>\n",
       "      <td>-0.009</td>\n",
       "      <td>-0.009</td>\n",
       "      <td>-0.009</td>\n",
       "    </tr>\n",
       "    <tr>\n",
       "      <th>4</th>\n",
       "      <td>5.0</td>\n",
       "      <td>21.1.8.YB-41</td>\n",
       "      <td>1.0</td>\n",
       "      <td>0.13</td>\n",
       "      <td>0.09</td>\n",
       "      <td>4.60</td>\n",
       "      <td>0.206</td>\n",
       "      <td>0.203</td>\n",
       "      <td>0.200</td>\n",
       "      <td>0.198</td>\n",
       "      <td>...</td>\n",
       "      <td>0.000</td>\n",
       "      <td>-0.001</td>\n",
       "      <td>0.000</td>\n",
       "      <td>0.001</td>\n",
       "      <td>0.001</td>\n",
       "      <td>0.000</td>\n",
       "      <td>0.000</td>\n",
       "      <td>-0.001</td>\n",
       "      <td>-0.001</td>\n",
       "      <td>-0.001</td>\n",
       "    </tr>\n",
       "  </tbody>\n",
       "</table>\n",
       "<p>5 rows × 1707 columns</p>\n",
       "</div>"
      ],
      "text/plain": [
       "   No.            Name  Group   %CM   %CA  %CAL    600    602    604    606  \\\n",
       "0   1.0  21.1.8.YB-13     1.0  2.57  0.09  9.83  0.222  0.223  0.221  0.217   \n",
       "1   2.0   21.1.8.YB-24    1.0  0.69  0.04  3.75  0.263  0.261  0.257  0.257   \n",
       "2   3.0  21.1.8.YB-38     1.0  0.43  0.05  5.53  0.252  0.253  0.253  0.252   \n",
       "3   4.0   21.1.8.YB-40    1.0  2.04  0.06  5.21  0.259  0.258  0.259  0.259   \n",
       "4   5.0  21.1.8.YB-41     1.0  0.13  0.09  4.60  0.206  0.203  0.200  0.198   \n",
       "\n",
       "   ...   3982   3984   3986   3988   3990   3992   3994   3996   3998   4000  \n",
       "0  ... -0.006 -0.006 -0.006 -0.006 -0.006 -0.006 -0.006 -0.006 -0.006 -0.006  \n",
       "1  ... -0.007 -0.007 -0.007 -0.007 -0.006 -0.007 -0.007 -0.007 -0.007 -0.007  \n",
       "2  ... -0.006 -0.007 -0.007 -0.007 -0.006 -0.007 -0.007 -0.007 -0.007 -0.007  \n",
       "3  ... -0.008 -0.009 -0.009 -0.009 -0.008 -0.008 -0.008 -0.009 -0.009 -0.009  \n",
       "4  ...  0.000 -0.001  0.000  0.001  0.001  0.000  0.000 -0.001 -0.001 -0.001  \n",
       "\n",
       "[5 rows x 1707 columns]"
      ]
     },
     "execution_count": 58,
     "metadata": {},
     "output_type": "execute_result"
    }
   ],
   "source": [
    "df = pd.read_excel(\"Dataset_HPLC.xlsx\", sheet_name=\"Dinh luong\")\n",
    "df = df.dropna()\n",
    "df.head(5)"
   ]
  },
  {
   "cell_type": "code",
   "execution_count": 59,
   "metadata": {},
   "outputs": [],
   "source": [
    "X = df.iloc[:, 6:]\n",
    "y = df.iloc[:, 5]"
   ]
  },
  {
   "cell_type": "code",
   "execution_count": 60,
   "metadata": {},
   "outputs": [
    {
     "data": {
      "image/png": "[encoded data removed]",
      "text/plain": [
       "<Figure size 640x480 with 1 Axes>"
      ]
     },
     "metadata": {},
     "output_type": "display_data"
    }
   ],
   "source": [
    "plt.plot(X.T, linewidth = 0.7)\n",
    "plt.show()"
   ]
  },
  {
   "cell_type": "code",
   "execution_count": 61,
   "metadata": {},
   "outputs": [],
   "source": [
    "def snv(input):\n",
    "    output = np.zeros_like(input)\n",
    "    for i in range(input.shape[0]):\n",
    "        output[i, :] = (input[i, :] - np.mean(input[i, :])) / np.std(input[i, :])\n",
    "    return output"
   ]
  },
  {
   "cell_type": "code",
   "execution_count": 62,
   "metadata": {},
   "outputs": [
    {
     "data": {
      "image/png": "[encoded data removed]",
      "text/plain": [
       "<Figure size 640x480 with 1 Axes>"
      ]
     },
     "metadata": {},
     "output_type": "display_data"
    }
   ],
   "source": [
    "Xsnv = snv(X.values)\n",
    "plt.plot(Xsnv.T, linewidth = 0.7)\n",
    "plt.show()"
   ]
  },
  {
   "cell_type": "code",
   "execution_count": 63,
   "metadata": {},
   "outputs": [
    {
     "data": {
      "image/png": "[encoded data removed]",
      "text/plain": [
       "<Figure size 640x480 with 1 Axes>"
      ]
     },
     "metadata": {},
     "output_type": "display_data"
    }
   ],
   "source": [
    "from sklearn.preprocessing import StandardScaler, MinMaxScaler\n",
    "from scipy.signal import savgol_filter\n",
    "\n",
    "X_deriv = savgol_filter(X, window_length=25, polyorder=5, deriv=2)\n",
    "plt.plot(X_deriv.T, linewidth = 0.7)\n",
    "plt.show()"
   ]
  },
  {
   "cell_type": "code",
   "execution_count": 64,
   "metadata": {},
   "outputs": [
    {
     "data": {
      "text/plain": [
       "((160, 1701), (69, 1701), (160,), (69,))"
      ]
     },
     "execution_count": 64,
     "metadata": {},
     "output_type": "execute_result"
    }
   ],
   "source": [
    "from sklearn.model_selection import train_test_split\n",
    "\n",
    "X_train, X_test, y_train, y_test = train_test_split(X_deriv, y, test_size=0.3, random_state=1)\n",
    "X_train.shape, X_test.shape, y_train.shape, y_test.shape"
   ]
  },
  {
   "cell_type": "code",
   "execution_count": 65,
   "metadata": {},
   "outputs": [],
   "source": [
    "# def SPA(X, k):\n",
    "#     n_samples, n_features = X.shape\n",
    "#     selected_features = []\n",
    "#     selected_features.append(0)\n",
    "\n",
    "#     first_feature = 0\n",
    "\n",
    "#     for i in range(k):\n",
    "#         remain_features = [i for i in range (n_features) if i != first_feature]\n",
    "#         selected_matric = X[:, selected_features]\n",
    "#         remain_matrix = "
   ]
  },
  {
   "cell_type": "code",
   "execution_count": 66,
   "metadata": {},
   "outputs": [
    {
     "data": {
      "image/png": "[encoded data removed]",
      "text/plain": [
       "<Figure size 640x480 with 1 Axes>"
      ]
     },
     "metadata": {},
     "output_type": "display_data"
    }
   ],
   "source": [
    "from auswahl import CARS\n",
    "\n",
    "np.random.seed(1337)\n",
    "X = X_train\n",
    "y = y_train\n",
    "\n",
    "cars = CARS(n_features_to_select=100)\n",
    "cars.fit(X, y)\n",
    "\n",
    "colors = np.full(X.shape[1], fill_value='C00')\n",
    "colors[cars.get_support()] = 'C01'\n",
    "\n",
    "plt.bar(x=np.arange(X.shape[1]), height=cars.feature_importance_, color=colors)\n",
    "\n",
    "plt.xlabel('Feature')\n",
    "plt.ylabel('CARS')\n",
    "\n",
    "plt.show()"
   ]
  },
  {
   "cell_type": "code",
   "execution_count": 82,
   "metadata": {},
   "outputs": [
    {
     "data": {
      "text/plain": [
       "array([   4,   13,   35,   36,   41,   44,   47,   49,   52,   63,   67,\n",
       "         76,   77,   81,   82,   83,   84,   85,  129,  149,  150,  151,\n",
       "        228,  264,  265,  266,  281,  282,  292,  302,  318,  319,  320,\n",
       "        335,  341,  342,  388,  416,  417,  432,  434,  435,  465,  466,\n",
       "        477,  478,  481,  489,  519,  522,  541,  542,  552,  578,  613,\n",
       "        614,  835,  856,  862,  917,  955, 1008, 1009, 1010, 1035, 1051,\n",
       "       1053, 1058, 1103, 1130, 1139, 1140, 1142, 1154, 1155, 1162, 1163,\n",
       "       1165, 1167, 1172, 1234, 1237, 1244, 1316, 1317, 1345, 1346, 1347,\n",
       "       1355, 1356, 1357, 1377, 1378, 1550, 1594, 1606, 1612, 1640, 1654,\n",
       "       1661], dtype=int64)"
      ]
     },
     "execution_count": 82,
     "metadata": {},
     "output_type": "execute_result"
    }
   ],
   "source": [
    "np.where(cars.get_support() == True)[0]"
   ]
  },
  {
   "cell_type": "code",
   "execution_count": 68,
   "metadata": {},
   "outputs": [],
   "source": [
    "X_train_cars = X_train[:, np.where(cars.get_support())[0]]\n",
    "X_test_cars = X_test[:, np.where(cars.get_support())[0]]"
   ]
  },
  {
   "cell_type": "code",
   "execution_count": 69,
   "metadata": {},
   "outputs": [
    {
     "data": {
      "application/vnd.plotly.v1+json": {
       "config": {
        "plotlyServerURL": "https://plot.ly"
       },
       "data": [
        {
         "marker": {
          "color": "blue",
          "opacity": 0.8,
          "size": 5
         },
         "mode": "markers",
         "type": "scatter3d",
         "x": [
          0.00011072575600306733,
          -0.00007748643160945118,
          0.0005815531045665688,
          0.00023817426950856202,
          -0.0003793961993362764,
          -0.000026518267672759506,
          -0.0002488455073163514,
          0.00006741145744139105,
          0.00046114402006452483,
          0.00021393970846737137,
          -0.00017277503439426262,
          0.0003491657434685526,
          -0.000004344913790243002,
          -0.0005393620206214714,
          -0.0000030918689839978114,
          -0.0001172493590035472,
          0.00021434620684990247,
          0.000011072960023420127,
          -0.00024815366209678287,
          -0.00012659521055331194,
          -0.00027688113984971393,
          0.000371019501904022,
          0.0005722101070676452,
          -0.00015769976317212518,
          -0.000048982385264319944,
          0.000086890703832148,
          0.0003844234060125795,
          0.00017260245168786766,
          0.0005551400290530347,
          0.00029201751105793674,
          -0.00011586071765984796,
          0.0001412846606998995,
          -0.00013679949069758755,
          -0.00016783123589724468,
          0.000512708564132827,
          -0.0001623949680172208,
          -0.00013729924082252036,
          0.00022225175291138138,
          0.0003406324809622323,
          0.00007444710045905259,
          -0.00019438515008236672,
          -0.0002459269199899597,
          0.0003410290192898528,
          -0.0003291068335297166,
          0.0002089823969133823,
          0.0002597338859707159,
          0.00008596919488966601,
          0.0006323014483433668,
          -0.00028935456514174104,
          -0.00007848115569261162,
          -0.0004025108657793033,
          -0.0004173218169470812,
          0.00025272357993489595,
          -0.00006125311470144695,
          -0.00018153067988158252,
          0.00004609793005587448,
          0.00016446869805186205,
          0.00006006658675319302,
          -0.0001272148308130586,
          -0.00001708522195782193,
          0.0005351176975614404,
          -0.0005372474019401576,
          0.00019047504219911297,
          -0.00009115716034764632,
          -0.00010391197175313449,
          0.00000587124852486319,
          -0.0001832114245908286,
          0.00011827949661527386,
          -0.00003036622714292815,
          0.0005800786087142569,
          -0.00033071022763686043,
          0.0004479363465120399,
          0.00044536647760032907,
          0.00027405667795468106,
          -0.00010778037554656263,
          0.0001003998583458364,
          0.00032559006044758157,
          0.000039357186208695445,
          -0.000011808839170244015,
          -0.00029870886235213237,
          0.00018302917305909605,
          0.0001157989187224092,
          -0.00014805237241527838,
          -0.0006508983270603324,
          -0.000022254665208274946,
          0.00023640446676425307,
          0.00032997289234163157,
          0.00033457111770452243,
          0.000046999577134438156,
          -0.00018880245192094258,
          0.00017931593643731505,
          0.00025125333603587437,
          0.00012370813427780257,
          0.0005002829005077555,
          0.0004633534048826063,
          -0.00008552402120620911,
          0.00004784146388336734,
          0.0005226507958141693,
          0.00020409340784149042,
          0.00011968159277000144,
          -0.00006997858879423391,
          0.0003460224433237411,
          -0.0003675838071640885,
          0.00011015465460735563,
          0.0002676005237474098,
          0.00012905749922238145,
          -0.00003805259374982731,
          0.00036194775572581835,
          -0.00014565712481758725,
          -0.0000864117475062702,
          0.00011038204673883504,
          -0.0003571852185795914,
          -0.00014931374639032442,
          0.00036803562088415925,
          0.00034456705213823735,
          -0.00014779399344625084,
          0.00026870038174379215,
          0.00014809605686662113,
          0.0001438908168293336,
          0.00023747910427067637,
          0.0006476998097687376,
          0.00042638360307020035,
          -0.000032819429446185114,
          -0.00004767220119552586,
          0.00029247864412777595,
          0.00017641715272893876,
          0.0000636773687747328,
          0.00017017394566111455,
          -0.00035332479447929173,
          0.00044443943529394805,
          0.0002674080209312179,
          -0.00023514518964302435,
          0.00023471224760572822,
          0.00027851557904027754,
          -0.000034422415831797046,
          0.00012824007576626648,
          0.00029204704174716056,
          0.00013602016008305677,
          0.000118502112580029,
          0.00012159642789321551,
          -0.00022898113880129474,
          0.00029384841378841215,
          -0.00022172486018070137,
          -0.000004068886302808789,
          -0.0004394930739758905,
          0.0005960971728587701,
          -0.0003302182824672312,
          0.0004809379109978356,
          0.00041149932026989574,
          -0.0003485504334080833,
          -0.00006262399103484223,
          0.00032068581094063693,
          0.0005027484509493305,
          0.00043770125426790315,
          0.00017705745029578633,
          -0.000048353969868267406,
          0.0003553422589404019,
          0.00010978100693236677,
          0.0004576239269642032,
          0.00013609285101034898
         ],
         "y": [
          0.00026709145426300797,
          0.0003930439209146198,
          0.00010120784595118483,
          0.0001888880151909517,
          0.00037079426486299116,
          0.00036818839995945247,
          0.0003929404761364983,
          0.0002852984929343485,
          0.0001494671079284235,
          0.0003041645261155075,
          0.000297078500369051,
          0.0001531117890846527,
          0.0002546972434426492,
          0.0005055430326648047,
          0.00033414831044688764,
          0.0004359951725628041,
          0.0002485631892545489,
          0.00032886581183659514,
          0.00045028313347825763,
          0.0004413671369296124,
          0.00034796168348442263,
          0.00020035297035826292,
          0.00013774959838384155,
          0.00038550678039391256,
          0.00045478746639238034,
          0.00035425265221286813,
          0.00021895212066606754,
          0.0001812069489641817,
          0.00017776746823724944,
          0.0001877073700812552,
          0.0002572183022629053,
          0.0003134090879867227,
          0.00031006169408482774,
          0.00027369933913425244,
          0.00019466962321977197,
          0.0003235353768241624,
          0.0002655281916068221,
          0.00026253167121661125,
          0.00008197696022497255,
          0.0002491803631885603,
          0.00034491180981836367,
          0.0004198392062562759,
          0.0001791510421851484,
          0.0005008584868265321,
          0.0002377365512925447,
          0.0002614801573453422,
          0.00031018587441452184,
          0.000231949642881766,
          0.0004979901074966208,
          0.00043144896082203876,
          0.000441406336447269,
          0.0004160857216970928,
          0.0003693274574704769,
          0.000290863659070779,
          0.00035574619448862106,
          0.0004989499422635296,
          0.00023293545533596607,
          0.00037197654085332566,
          0.00019715346288968452,
          0.00030532513462187046,
          0.00012880838134672222,
          0.0004738346444354141,
          0.00030541693021679354,
          0.0004060768566628444,
          0.00048602627589242574,
          0.00034193602498278595,
          0.0003705930251528874,
          0.0002986340163129691,
          0.00032186016547464027,
          0.00021367964035423972,
          0.0004468865217603143,
          0.00014180345723772926,
          0.00021377790124859969,
          0.00032738444296329236,
          0.00031788528811517273,
          0.0003207890227245073,
          0.0001827852973155181,
          0.00039109454595277846,
          0.0002890499971326321,
          0.0004842978277611581,
          0.0003492105345802494,
          0.00021693279233531452,
          0.0003707936241524974,
          0.00046495138210696663,
          0.00034363721401143004,
          0.00010827663090802594,
          0.0002784474312833435,
          0.0001707865181534143,
          0.00029270026989752177,
          0.0003556025017702777,
          0.00028089224617272503,
          0.00020954423719113987,
          0.00031171686882872085,
          0.0000844003988594833,
          0.00022828434266665204,
          0.0002887652327611184,
          0.0003854759682955407,
          0.00021916658219894988,
          0.00010663572641765118,
          0.0002300471558996744,
          0.0004578411260433815,
          0.00019231672041639938,
          0.0005652093533545137,
          0.0003244348105510969,
          0.0002492999420920269,
          0.00023294069747505477,
          0.00030619049448449547,
          0.00018402185852465624,
          0.0003431213297667682,
          0.0004582631760904634,
          0.0002220253509487677,
          0.00035251832124825284,
          0.000439001827743481,
          0.0002729165720065834,
          0.00015036409533175513,
          0.00037226386805358936,
          0.00025861276819488755,
          0.00029533391811078277,
          0.00022161349394462853,
          0.0001825397324560214,
          0.0002121188822722551,
          0.00022500847477169034,
          0.0003294035383118112,
          0.0002600615193439726,
          0.00024056439145320836,
          0.00023198400798476494,
          0.0003515685630232513,
          0.00042844999410234733,
          0.0003809228835343621,
          0.0004205644263964867,
          0.00021378605567999717,
          0.000428918291423793,
          0.00035347943742167903,
          0.00020487489354535171,
          0.00035066872157076554,
          0.0001732185189380047,
          0.00041809334259261446,
          0.00038733471258265133,
          0.00022588833787219815,
          0.00030299430702797423,
          0.0004676783985495575,
          0.00009056538163683533,
          0.0003886523521328556,
          0.00025938458508922846,
          0.000336181792543857,
          0.00016901689014578577,
          0.0003459146300863404,
          0.0002154414634060989,
          0.00029257824466446484,
          0.0005423311654057933,
          0.00027602638073936534,
          0.00016035309849871332,
          0.00015254354174032252,
          0.0002297487619717228,
          0.0002301863054393733,
          0.0002675589361389474,
          0.00022216607312856504,
          0.00042806720181733744,
          0.0001746804336636592,
          0.00033340823759131066
         ],
         "z": [
          1.849,
          3.85,
          3.429,
          3.326,
          5.029887740001169,
          6.561,
          7.172896440744032,
          3.41,
          2.753,
          3.814,
          3.4495470449504366,
          2.922,
          2.353,
          7.05,
          4.845697916536918,
          6.117,
          3.29,
          4.6312998869683275,
          4.37,
          6.7,
          4.886013627638255,
          3.593,
          3.166,
          6.04,
          5.199,
          4.62,
          0.742,
          1.538,
          3.56,
          1.7051940509999797,
          4.320491177055826,
          2.883,
          2.88,
          4.589478991201895,
          3.625,
          4.85988828854055,
          4.551999412026683,
          4.648,
          4.563148350825889,
          3.81,
          2.59,
          6.337,
          2.066,
          6.897,
          5.71,
          5.917,
          6.008,
          5.447,
          6.457,
          6.238,
          4.8,
          2.8,
          3.498,
          3.2174461114875834,
          6.436,
          3.52,
          3.97,
          5.421,
          4.720414362303996,
          3.66,
          3.249,
          4.25,
          5.766,
          6.387,
          6.076,
          4.981,
          6.453,
          4.172,
          5.53,
          5.288,
          3.3,
          2.546,
          3.106,
          4.261,
          5.693511698455902,
          2.71,
          4.83,
          5.828,
          4.431990761263372,
          6.988,
          3.5236593033248544,
          1.827,
          4.701,
          3.72,
          3.82,
          1.236,
          5.149,
          3.759,
          7.015,
          4.815026480430136,
          3.655,
          3.23,
          2.507,
          2.09,
          3.662,
          4.973807278845017,
          6.431,
          4.083,
          2.522,
          5.545760343398162,
          4.772,
          4.2,
          5.8104695132325554,
          3.19,
          3.18,
          4.832750309056427,
          5.848,
          4.094,
          2.4,
          5.996,
          2.91,
          4.76,
          5.21,
          2.755,
          3.575,
          5.99,
          3.135,
          5.834,
          2.36,
          2.877,
          2.642,
          2.042,
          3.55,
          3.1,
          5.5,
          2.699,
          3.75,
          5.71,
          5.766620314709186,
          2.15,
          5.157,
          4.01,
          4.78,
          1.2924602542688859,
          5.578,
          4.884976729232146,
          3.92,
          6.05,
          3.432,
          4.93,
          7.031,
          0.9960822353831214,
          6.384,
          4.053597195373111,
          4.02797575975951,
          2.628,
          3.36,
          1.312,
          4.01,
          6.332,
          1.945,
          1.1638525732494895,
          1.602,
          4.082,
          1.654,
          5.513,
          1.134,
          6.217,
          2.31268807865266,
          5.03
         ]
        }
       ],
       "layout": {
        "height": 600,
        "scene": {
         "xaxis": {
          "title": {
           "text": "X Axis"
          }
         },
         "yaxis": {
          "title": {
           "text": "Y Axis"
          }
         },
         "zaxis": {
          "title": {
           "text": "Z Axis"
          }
         }
        },
        "template": {
         "data": {
          "bar": [
           {
            "error_x": {
             "color": "#2a3f5f"
            },
            "error_y": {
             "color": "#2a3f5f"
            },
            "marker": {
             "line": {
              "color": "#E5ECF6",
              "width": 0.5
             },
             "pattern": {
              "fillmode": "overlay",
              "size": 10,
              "solidity": 0.2
             }
            },
            "type": "bar"
           }
          ],
          "barpolar": [
           {
            "marker": {
             "line": {
              "color": "#E5ECF6",
              "width": 0.5
             },
             "pattern": {
              "fillmode": "overlay",
              "size": 10,
              "solidity": 0.2
             }
            },
            "type": "barpolar"
           }
          ],
          "carpet": [
           {
            "aaxis": {
             "endlinecolor": "#2a3f5f",
             "gridcolor": "white",
             "linecolor": "white",
             "minorgridcolor": "white",
             "startlinecolor": "#2a3f5f"
            },
            "baxis": {
             "endlinecolor": "#2a3f5f",
             "gridcolor": "white",
             "linecolor": "white",
             "minorgridcolor": "white",
             "startlinecolor": "#2a3f5f"
            },
            "type": "carpet"
           }
          ],
          "choropleth": [
           {
            "colorbar": {
             "outlinewidth": 0,
             "ticks": ""
            },
            "type": "choropleth"
           }
          ],
          "contour": [
           {
            "colorbar": {
             "outlinewidth": 0,
             "ticks": ""
            },
            "colorscale": [
             [
              0,
              "#0d0887"
             ],
             [
              0.1111111111111111,
              "#46039f"
             ],
             [
              0.2222222222222222,
              "#7201a8"
             ],
             [
              0.3333333333333333,
              "#9c179e"
             ],
             [
              0.4444444444444444,
              "#bd3786"
             ],
             [
              0.5555555555555556,
              "#d8576b"
             ],
             [
              0.6666666666666666,
              "#ed7953"
             ],
             [
              0.7777777777777778,
              "#fb9f3a"
             ],
             [
              0.8888888888888888,
              "#fdca26"
             ],
             [
              1,
              "#f0f921"
             ]
            ],
            "type": "contour"
           }
          ],
          "contourcarpet": [
           {
            "colorbar": {
             "outlinewidth": 0,
             "ticks": ""
            },
            "type": "contourcarpet"
           }
          ],
          "heatmap": [
           {
            "colorbar": {
             "outlinewidth": 0,
             "ticks": ""
            },
            "colorscale": [
             [
              0,
              "#0d0887"
             ],
             [
              0.1111111111111111,
              "#46039f"
             ],
             [
              0.2222222222222222,
              "#7201a8"
             ],
             [
              0.3333333333333333,
              "#9c179e"
             ],
             [
              0.4444444444444444,
              "#bd3786"
             ],
             [
              0.5555555555555556,
              "#d8576b"
             ],
             [
              0.6666666666666666,
              "#ed7953"
             ],
             [
              0.7777777777777778,
              "#fb9f3a"
             ],
             [
              0.8888888888888888,
              "#fdca26"
             ],
             [
              1,
              "#f0f921"
             ]
            ],
            "type": "heatmap"
           }
          ],
          "heatmapgl": [
           {
            "colorbar": {
             "outlinewidth": 0,
             "ticks": ""
            },
            "colorscale": [
             [
              0,
              "#0d0887"
             ],
             [
              0.1111111111111111,
              "#46039f"
             ],
             [
              0.2222222222222222,
              "#7201a8"
             ],
             [
              0.3333333333333333,
              "#9c179e"
             ],
             [
              0.4444444444444444,
              "#bd3786"
             ],
             [
              0.5555555555555556,
              "#d8576b"
             ],
             [
              0.6666666666666666,
              "#ed7953"
             ],
             [
              0.7777777777777778,
              "#fb9f3a"
             ],
             [
              0.8888888888888888,
              "#fdca26"
             ],
             [
              1,
              "#f0f921"
             ]
            ],
            "type": "heatmapgl"
           }
          ],
          "histogram": [
           {
            "marker": {
             "pattern": {
              "fillmode": "overlay",
              "size": 10,
              "solidity": 0.2
             }
            },
            "type": "histogram"
           }
          ],
          "histogram2d": [
           {
            "colorbar": {
             "outlinewidth": 0,
             "ticks": ""
            },
            "colorscale": [
             [
              0,
              "#0d0887"
             ],
             [
              0.1111111111111111,
              "#46039f"
             ],
             [
              0.2222222222222222,
              "#7201a8"
             ],
             [
              0.3333333333333333,
              "#9c179e"
             ],
             [
              0.4444444444444444,
              "#bd3786"
             ],
             [
              0.5555555555555556,
              "#d8576b"
             ],
             [
              0.6666666666666666,
              "#ed7953"
             ],
             [
              0.7777777777777778,
              "#fb9f3a"
             ],
             [
              0.8888888888888888,
              "#fdca26"
             ],
             [
              1,
              "#f0f921"
             ]
            ],
            "type": "histogram2d"
           }
          ],
          "histogram2dcontour": [
           {
            "colorbar": {
             "outlinewidth": 0,
             "ticks": ""
            },
            "colorscale": [
             [
              0,
              "#0d0887"
             ],
             [
              0.1111111111111111,
              "#46039f"
             ],
             [
              0.2222222222222222,
              "#7201a8"
             ],
             [
              0.3333333333333333,
              "#9c179e"
             ],
             [
              0.4444444444444444,
              "#bd3786"
             ],
             [
              0.5555555555555556,
              "#d8576b"
             ],
             [
              0.6666666666666666,
              "#ed7953"
             ],
             [
              0.7777777777777778,
              "#fb9f3a"
             ],
             [
              0.8888888888888888,
              "#fdca26"
             ],
             [
              1,
              "#f0f921"
             ]
            ],
            "type": "histogram2dcontour"
           }
          ],
          "mesh3d": [
           {
            "colorbar": {
             "outlinewidth": 0,
             "ticks": ""
            },
            "type": "mesh3d"
           }
          ],
          "parcoords": [
           {
            "line": {
             "colorbar": {
              "outlinewidth": 0,
              "ticks": ""
             }
            },
            "type": "parcoords"
           }
          ],
          "pie": [
           {
            "automargin": true,
            "type": "pie"
           }
          ],
          "scatter": [
           {
            "fillpattern": {
             "fillmode": "overlay",
             "size": 10,
             "solidity": 0.2
            },
            "type": "scatter"
           }
          ],
          "scatter3d": [
           {
            "line": {
             "colorbar": {
              "outlinewidth": 0,
              "ticks": ""
             }
            },
            "marker": {
             "colorbar": {
              "outlinewidth": 0,
              "ticks": ""
             }
            },
            "type": "scatter3d"
           }
          ],
          "scattercarpet": [
           {
            "marker": {
             "colorbar": {
              "outlinewidth": 0,
              "ticks": ""
             }
            },
            "type": "scattercarpet"
           }
          ],
          "scattergeo": [
           {
            "marker": {
             "colorbar": {
              "outlinewidth": 0,
              "ticks": ""
             }
            },
            "type": "scattergeo"
           }
          ],
          "scattergl": [
           {
            "marker": {
             "colorbar": {
              "outlinewidth": 0,
              "ticks": ""
             }
            },
            "type": "scattergl"
           }
          ],
          "scattermapbox": [
           {
            "marker": {
             "colorbar": {
              "outlinewidth": 0,
              "ticks": ""
             }
            },
            "type": "scattermapbox"
           }
          ],
          "scatterpolar": [
           {
            "marker": {
             "colorbar": {
              "outlinewidth": 0,
              "ticks": ""
             }
            },
            "type": "scatterpolar"
           }
          ],
          "scatterpolargl": [
           {
            "marker": {
             "colorbar": {
              "outlinewidth": 0,
              "ticks": ""
             }
            },
            "type": "scatterpolargl"
           }
          ],
          "scatterternary": [
           {
            "marker": {
             "colorbar": {
              "outlinewidth": 0,
              "ticks": ""
             }
            },
            "type": "scatterternary"
           }
          ],
          "surface": [
           {
            "colorbar": {
             "outlinewidth": 0,
             "ticks": ""
            },
            "colorscale": [
             [
              0,
              "#0d0887"
             ],
             [
              0.1111111111111111,
              "#46039f"
             ],
             [
              0.2222222222222222,
              "#7201a8"
             ],
             [
              0.3333333333333333,
              "#9c179e"
             ],
             [
              0.4444444444444444,
              "#bd3786"
             ],
             [
              0.5555555555555556,
              "#d8576b"
             ],
             [
              0.6666666666666666,
              "#ed7953"
             ],
             [
              0.7777777777777778,
              "#fb9f3a"
             ],
             [
              0.8888888888888888,
              "#fdca26"
             ],
             [
              1,
              "#f0f921"
             ]
            ],
            "type": "surface"
           }
          ],
          "table": [
           {
            "cells": {
             "fill": {
              "color": "#EBF0F8"
             },
             "line": {
              "color": "white"
             }
            },
            "header": {
             "fill": {
              "color": "#C8D4E3"
             },
             "line": {
              "color": "white"
             }
            },
            "type": "table"
           }
          ]
         },
         "layout": {
          "annotationdefaults": {
           "arrowcolor": "#2a3f5f",
           "arrowhead": 0,
           "arrowwidth": 1
          },
          "autotypenumbers": "strict",
          "coloraxis": {
           "colorbar": {
            "outlinewidth": 0,
            "ticks": ""
           }
          },
          "colorscale": {
           "diverging": [
            [
             0,
             "#8e0152"
            ],
            [
             0.1,
             "#c51b7d"
            ],
            [
             0.2,
             "#de77ae"
            ],
            [
             0.3,
             "#f1b6da"
            ],
            [
             0.4,
             "#fde0ef"
            ],
            [
             0.5,
             "#f7f7f7"
            ],
            [
             0.6,
             "#e6f5d0"
            ],
            [
             0.7,
             "#b8e186"
            ],
            [
             0.8,
             "#7fbc41"
            ],
            [
             0.9,
             "#4d9221"
            ],
            [
             1,
             "#276419"
            ]
           ],
           "sequential": [
            [
             0,
             "#0d0887"
            ],
            [
             0.1111111111111111,
             "#46039f"
            ],
            [
             0.2222222222222222,
             "#7201a8"
            ],
            [
             0.3333333333333333,
             "#9c179e"
            ],
            [
             0.4444444444444444,
             "#bd3786"
            ],
            [
             0.5555555555555556,
             "#d8576b"
            ],
            [
             0.6666666666666666,
             "#ed7953"
            ],
            [
             0.7777777777777778,
             "#fb9f3a"
            ],
            [
             0.8888888888888888,
             "#fdca26"
            ],
            [
             1,
             "#f0f921"
            ]
           ],
           "sequentialminus": [
            [
             0,
             "#0d0887"
            ],
            [
             0.1111111111111111,
             "#46039f"
            ],
            [
             0.2222222222222222,
             "#7201a8"
            ],
            [
             0.3333333333333333,
             "#9c179e"
            ],
            [
             0.4444444444444444,
             "#bd3786"
            ],
            [
             0.5555555555555556,
             "#d8576b"
            ],
            [
             0.6666666666666666,
             "#ed7953"
            ],
            [
             0.7777777777777778,
             "#fb9f3a"
            ],
            [
             0.8888888888888888,
             "#fdca26"
            ],
            [
             1,
             "#f0f921"
            ]
           ]
          },
          "colorway": [
           "#636efa",
           "#EF553B",
           "#00cc96",
           "#ab63fa",
           "#FFA15A",
           "#19d3f3",
           "#FF6692",
           "#B6E880",
           "#FF97FF",
           "#FECB52"
          ],
          "font": {
           "color": "#2a3f5f"
          },
          "geo": {
           "bgcolor": "white",
           "lakecolor": "white",
           "landcolor": "#E5ECF6",
           "showlakes": true,
           "showland": true,
           "subunitcolor": "white"
          },
          "hoverlabel": {
           "align": "left"
          },
          "hovermode": "closest",
          "mapbox": {
           "style": "light"
          },
          "paper_bgcolor": "white",
          "plot_bgcolor": "#E5ECF6",
          "polar": {
           "angularaxis": {
            "gridcolor": "white",
            "linecolor": "white",
            "ticks": ""
           },
           "bgcolor": "#E5ECF6",
           "radialaxis": {
            "gridcolor": "white",
            "linecolor": "white",
            "ticks": ""
           }
          },
          "scene": {
           "xaxis": {
            "backgroundcolor": "#E5ECF6",
            "gridcolor": "white",
            "gridwidth": 2,
            "linecolor": "white",
            "showbackground": true,
            "ticks": "",
            "zerolinecolor": "white"
           },
           "yaxis": {
            "backgroundcolor": "#E5ECF6",
            "gridcolor": "white",
            "gridwidth": 2,
            "linecolor": "white",
            "showbackground": true,
            "ticks": "",
            "zerolinecolor": "white"
           },
           "zaxis": {
            "backgroundcolor": "#E5ECF6",
            "gridcolor": "white",
            "gridwidth": 2,
            "linecolor": "white",
            "showbackground": true,
            "ticks": "",
            "zerolinecolor": "white"
           }
          },
          "shapedefaults": {
           "line": {
            "color": "#2a3f5f"
           }
          },
          "ternary": {
           "aaxis": {
            "gridcolor": "white",
            "linecolor": "white",
            "ticks": ""
           },
           "baxis": {
            "gridcolor": "white",
            "linecolor": "white",
            "ticks": ""
           },
           "bgcolor": "#E5ECF6",
           "caxis": {
            "gridcolor": "white",
            "linecolor": "white",
            "ticks": ""
           }
          },
          "title": {
           "x": 0.05
          },
          "xaxis": {
           "automargin": true,
           "gridcolor": "white",
           "linecolor": "white",
           "ticks": "",
           "title": {
            "standoff": 15
           },
           "zerolinecolor": "white",
           "zerolinewidth": 2
          },
          "yaxis": {
           "automargin": true,
           "gridcolor": "white",
           "linecolor": "white",
           "ticks": "",
           "title": {
            "standoff": 15
           },
           "zerolinecolor": "white",
           "zerolinewidth": 2
          }
         }
        },
        "title": {
         "text": "Multiple 3D Scatter Plots Example"
        },
        "width": 800
       }
      }
     },
     "metadata": {},
     "output_type": "display_data"
    }
   ],
   "source": [
    "import plotly.graph_objects as go\n",
    "import numpy as np\n",
    "\n",
    "x1 = X_train_cars[:, 0]\n",
    "y1 = X_train_cars[:, 1]\n",
    "z1 = y_train\n",
    "\n",
    "\n",
    "\n",
    "# Create a 3D scatter plot\n",
    "fig = go.Figure()\n",
    "# Add the first scatter trace\n",
    "fig.add_trace(go.Scatter3d(\n",
    "    x=x1,\n",
    "    y=y1,\n",
    "    z=z1,\n",
    "    mode='markers',\n",
    "    marker=dict(\n",
    "        size=5,\n",
    "        color='blue',  # Color for the first set\n",
    "        opacity=0.8\n",
    "    ),\n",
    "))\n",
    "# Set the layout of the plot\n",
    "fig.update_layout(\n",
    "    scene=dict(\n",
    "        xaxis_title='X Axis',\n",
    "        yaxis_title='Y Axis',\n",
    "        zaxis_title='Z Axis'\n",
    "    ),\n",
    "    width = 800,\n",
    "    height = 600,\n",
    "    title='Multiple 3D Scatter Plots Example'\n",
    ")\n",
    "\n",
    "# Show the plot\n",
    "fig.show()"
   ]
  },
  {
   "cell_type": "code",
   "execution_count": 86,
   "metadata": {},
   "outputs": [
    {
     "data": {
      "text/html": [
       "<style>#sk-container-id-12 {\n",
       "  /* Definition of color scheme common for light and dark mode */\n",
       "  --sklearn-color-text: black;\n",
       "  --sklearn-color-line: gray;\n",
       "  /* Definition of color scheme for unfitted estimators */\n",
       "  --sklearn-color-unfitted-level-0: #fff5e6;\n",
       "  --sklearn-color-unfitted-level-1: #f6e4d2;\n",
       "  --sklearn-color-unfitted-level-2: #ffe0b3;\n",
       "  --sklearn-color-unfitted-level-3: chocolate;\n",
       "  /* Definition of color scheme for fitted estimators */\n",
       "  --sklearn-color-fitted-level-0: #f0f8ff;\n",
       "  --sklearn-color-fitted-level-1: #d4ebff;\n",
       "  --sklearn-color-fitted-level-2: #b3dbfd;\n",
       "  --sklearn-color-fitted-level-3: cornflowerblue;\n",
       "\n",
       "  /* Specific color for light theme */\n",
       "  --sklearn-color-text-on-default-background: var(--sg-text-color, var(--theme-code-foreground, var(--jp-content-font-color1, black)));\n",
       "  --sklearn-color-background: var(--sg-background-color, var(--theme-background, var(--jp-layout-color0, white)));\n",
       "  --sklearn-color-border-box: var(--sg-text-color, var(--theme-code-foreground, var(--jp-content-font-color1, black)));\n",
       "  --sklearn-color-icon: #696969;\n",
       "\n",
       "  @media (prefers-color-scheme: dark) {\n",
       "    /* Redefinition of color scheme for dark theme */\n",
       "    --sklearn-color-text-on-default-background: var(--sg-text-color, var(--theme-code-foreground, var(--jp-content-font-color1, white)));\n",
       "    --sklearn-color-background: var(--sg-background-color, var(--theme-background, var(--jp-layout-color0, #111)));\n",
       "    --sklearn-color-border-box: var(--sg-text-color, var(--theme-code-foreground, var(--jp-content-font-color1, white)));\n",
       "    --sklearn-color-icon: #878787;\n",
       "  }\n",
       "}\n",
       "\n",
       "#sk-container-id-12 {\n",
       "  color: var(--sklearn-color-text);\n",
       "}\n",
       "\n",
       "#sk-container-id-12 pre {\n",
       "  padding: 0;\n",
       "}\n",
       "\n",
       "#sk-container-id-12 input.sk-hidden--visually {\n",
       "  border: 0;\n",
       "  clip: rect(1px 1px 1px 1px);\n",
       "  clip: rect(1px, 1px, 1px, 1px);\n",
       "  height: 1px;\n",
       "  margin: -1px;\n",
       "  overflow: hidden;\n",
       "  padding: 0;\n",
       "  position: absolute;\n",
       "  width: 1px;\n",
       "}\n",
       "\n",
       "#sk-container-id-12 div.sk-dashed-wrapped {\n",
       "  border: 1px dashed var(--sklearn-color-line);\n",
       "  margin: 0 0.4em 0.5em 0.4em;\n",
       "  box-sizing: border-box;\n",
       "  padding-bottom: 0.4em;\n",
       "  background-color: var(--sklearn-color-background);\n",
       "}\n",
       "\n",
       "#sk-container-id-12 div.sk-container {\n",
       "  /* jupyter's `normalize.less` sets `[hidden] { display: none; }`\n",
       "     but bootstrap.min.css set `[hidden] { display: none !important; }`\n",
       "     so we also need the `!important` here to be able to override the\n",
       "     default hidden behavior on the sphinx rendered scikit-learn.org.\n",
       "     See: https://github.com/scikit-learn/scikit-learn/issues/21755 */\n",
       "  display: inline-block !important;\n",
       "  position: relative;\n",
       "}\n",
       "\n",
       "#sk-container-id-12 div.sk-text-repr-fallback {\n",
       "  display: none;\n",
       "}\n",
       "\n",
       "div.sk-parallel-item,\n",
       "div.sk-serial,\n",
       "div.sk-item {\n",
       "  /* draw centered vertical line to link estimators */\n",
       "  background-image: linear-gradient(var(--sklearn-color-text-on-default-background), var(--sklearn-color-text-on-default-background));\n",
       "  background-size: 2px 100%;\n",
       "  background-repeat: no-repeat;\n",
       "  background-position: center center;\n",
       "}\n",
       "\n",
       "/* Parallel-specific style estimator block */\n",
       "\n",
       "#sk-container-id-12 div.sk-parallel-item::after {\n",
       "  content: \"\";\n",
       "  width: 100%;\n",
       "  border-bottom: 2px solid var(--sklearn-color-text-on-default-background);\n",
       "  flex-grow: 1;\n",
       "}\n",
       "\n",
       "#sk-container-id-12 div.sk-parallel {\n",
       "  display: flex;\n",
       "  align-items: stretch;\n",
       "  justify-content: center;\n",
       "  background-color: var(--sklearn-color-background);\n",
       "  position: relative;\n",
       "}\n",
       "\n",
       "#sk-container-id-12 div.sk-parallel-item {\n",
       "  display: flex;\n",
       "  flex-direction: column;\n",
       "}\n",
       "\n",
       "#sk-container-id-12 div.sk-parallel-item:first-child::after {\n",
       "  align-self: flex-end;\n",
       "  width: 50%;\n",
       "}\n",
       "\n",
       "#sk-container-id-12 div.sk-parallel-item:last-child::after {\n",
       "  align-self: flex-start;\n",
       "  width: 50%;\n",
       "}\n",
       "\n",
       "#sk-container-id-12 div.sk-parallel-item:only-child::after {\n",
       "  width: 0;\n",
       "}\n",
       "\n",
       "/* Serial-specific style estimator block */\n",
       "\n",
       "#sk-container-id-12 div.sk-serial {\n",
       "  display: flex;\n",
       "  flex-direction: column;\n",
       "  align-items: center;\n",
       "  background-color: var(--sklearn-color-background);\n",
       "  padding-right: 1em;\n",
       "  padding-left: 1em;\n",
       "}\n",
       "\n",
       "\n",
       "/* Toggleable style: style used for estimator/Pipeline/ColumnTransformer box that is\n",
       "clickable and can be expanded/collapsed.\n",
       "- Pipeline and ColumnTransformer use this feature and define the default style\n",
       "- Estimators will overwrite some part of the style using the `sk-estimator` class\n",
       "*/\n",
       "\n",
       "/* Pipeline and ColumnTransformer style (default) */\n",
       "\n",
       "#sk-container-id-12 div.sk-toggleable {\n",
       "  /* Default theme specific background. It is overwritten whether we have a\n",
       "  specific estimator or a Pipeline/ColumnTransformer */\n",
       "  background-color: var(--sklearn-color-background);\n",
       "}\n",
       "\n",
       "/* Toggleable label */\n",
       "#sk-container-id-12 label.sk-toggleable__label {\n",
       "  cursor: pointer;\n",
       "  display: block;\n",
       "  width: 100%;\n",
       "  margin-bottom: 0;\n",
       "  padding: 0.5em;\n",
       "  box-sizing: border-box;\n",
       "  text-align: center;\n",
       "}\n",
       "\n",
       "#sk-container-id-12 label.sk-toggleable__label-arrow:before {\n",
       "  /* Arrow on the left of the label */\n",
       "  content: \"▸\";\n",
       "  float: left;\n",
       "  margin-right: 0.25em;\n",
       "  color: var(--sklearn-color-icon);\n",
       "}\n",
       "\n",
       "#sk-container-id-12 label.sk-toggleable__label-arrow:hover:before {\n",
       "  color: var(--sklearn-color-text);\n",
       "}\n",
       "\n",
       "/* Toggleable content - dropdown */\n",
       "\n",
       "#sk-container-id-12 div.sk-toggleable__content {\n",
       "  max-height: 0;\n",
       "  max-width: 0;\n",
       "  overflow: hidden;\n",
       "  text-align: left;\n",
       "  /* unfitted */\n",
       "  background-color: var(--sklearn-color-unfitted-level-0);\n",
       "}\n",
       "\n",
       "#sk-container-id-12 div.sk-toggleable__content.fitted {\n",
       "  /* fitted */\n",
       "  background-color: var(--sklearn-color-fitted-level-0);\n",
       "}\n",
       "\n",
       "#sk-container-id-12 div.sk-toggleable__content pre {\n",
       "  margin: 0.2em;\n",
       "  border-radius: 0.25em;\n",
       "  color: var(--sklearn-color-text);\n",
       "  /* unfitted */\n",
       "  background-color: var(--sklearn-color-unfitted-level-0);\n",
       "}\n",
       "\n",
       "#sk-container-id-12 div.sk-toggleable__content.fitted pre {\n",
       "  /* unfitted */\n",
       "  background-color: var(--sklearn-color-fitted-level-0);\n",
       "}\n",
       "\n",
       "#sk-container-id-12 input.sk-toggleable__control:checked~div.sk-toggleable__content {\n",
       "  /* Expand drop-down */\n",
       "  max-height: 200px;\n",
       "  max-width: 100%;\n",
       "  overflow: auto;\n",
       "}\n",
       "\n",
       "#sk-container-id-12 input.sk-toggleable__control:checked~label.sk-toggleable__label-arrow:before {\n",
       "  content: \"▾\";\n",
       "}\n",
       "\n",
       "/* Pipeline/ColumnTransformer-specific style */\n",
       "\n",
       "#sk-container-id-12 div.sk-label input.sk-toggleable__control:checked~label.sk-toggleable__label {\n",
       "  color: var(--sklearn-color-text);\n",
       "  background-color: var(--sklearn-color-unfitted-level-2);\n",
       "}\n",
       "\n",
       "#sk-container-id-12 div.sk-label.fitted input.sk-toggleable__control:checked~label.sk-toggleable__label {\n",
       "  background-color: var(--sklearn-color-fitted-level-2);\n",
       "}\n",
       "\n",
       "/* Estimator-specific style */\n",
       "\n",
       "/* Colorize estimator box */\n",
       "#sk-container-id-12 div.sk-estimator input.sk-toggleable__control:checked~label.sk-toggleable__label {\n",
       "  /* unfitted */\n",
       "  background-color: var(--sklearn-color-unfitted-level-2);\n",
       "}\n",
       "\n",
       "#sk-container-id-12 div.sk-estimator.fitted input.sk-toggleable__control:checked~label.sk-toggleable__label {\n",
       "  /* fitted */\n",
       "  background-color: var(--sklearn-color-fitted-level-2);\n",
       "}\n",
       "\n",
       "#sk-container-id-12 div.sk-label label.sk-toggleable__label,\n",
       "#sk-container-id-12 div.sk-label label {\n",
       "  /* The background is the default theme color */\n",
       "  color: var(--sklearn-color-text-on-default-background);\n",
       "}\n",
       "\n",
       "/* On hover, darken the color of the background */\n",
       "#sk-container-id-12 div.sk-label:hover label.sk-toggleable__label {\n",
       "  color: var(--sklearn-color-text);\n",
       "  background-color: var(--sklearn-color-unfitted-level-2);\n",
       "}\n",
       "\n",
       "/* Label box, darken color on hover, fitted */\n",
       "#sk-container-id-12 div.sk-label.fitted:hover label.sk-toggleable__label.fitted {\n",
       "  color: var(--sklearn-color-text);\n",
       "  background-color: var(--sklearn-color-fitted-level-2);\n",
       "}\n",
       "\n",
       "/* Estimator label */\n",
       "\n",
       "#sk-container-id-12 div.sk-label label {\n",
       "  font-family: monospace;\n",
       "  font-weight: bold;\n",
       "  display: inline-block;\n",
       "  line-height: 1.2em;\n",
       "}\n",
       "\n",
       "#sk-container-id-12 div.sk-label-container {\n",
       "  text-align: center;\n",
       "}\n",
       "\n",
       "/* Estimator-specific */\n",
       "#sk-container-id-12 div.sk-estimator {\n",
       "  font-family: monospace;\n",
       "  border: 1px dotted var(--sklearn-color-border-box);\n",
       "  border-radius: 0.25em;\n",
       "  box-sizing: border-box;\n",
       "  margin-bottom: 0.5em;\n",
       "  /* unfitted */\n",
       "  background-color: var(--sklearn-color-unfitted-level-0);\n",
       "}\n",
       "\n",
       "#sk-container-id-12 div.sk-estimator.fitted {\n",
       "  /* fitted */\n",
       "  background-color: var(--sklearn-color-fitted-level-0);\n",
       "}\n",
       "\n",
       "/* on hover */\n",
       "#sk-container-id-12 div.sk-estimator:hover {\n",
       "  /* unfitted */\n",
       "  background-color: var(--sklearn-color-unfitted-level-2);\n",
       "}\n",
       "\n",
       "#sk-container-id-12 div.sk-estimator.fitted:hover {\n",
       "  /* fitted */\n",
       "  background-color: var(--sklearn-color-fitted-level-2);\n",
       "}\n",
       "\n",
       "/* Specification for estimator info (e.g. \"i\" and \"?\") */\n",
       "\n",
       "/* Common style for \"i\" and \"?\" */\n",
       "\n",
       ".sk-estimator-doc-link,\n",
       "a:link.sk-estimator-doc-link,\n",
       "a:visited.sk-estimator-doc-link {\n",
       "  float: right;\n",
       "  font-size: smaller;\n",
       "  line-height: 1em;\n",
       "  font-family: monospace;\n",
       "  background-color: var(--sklearn-color-background);\n",
       "  border-radius: 1em;\n",
       "  height: 1em;\n",
       "  width: 1em;\n",
       "  text-decoration: none !important;\n",
       "  margin-left: 1ex;\n",
       "  /* unfitted */\n",
       "  border: var(--sklearn-color-unfitted-level-1) 1pt solid;\n",
       "  color: var(--sklearn-color-unfitted-level-1);\n",
       "}\n",
       "\n",
       ".sk-estimator-doc-link.fitted,\n",
       "a:link.sk-estimator-doc-link.fitted,\n",
       "a:visited.sk-estimator-doc-link.fitted {\n",
       "  /* fitted */\n",
       "  border: var(--sklearn-color-fitted-level-1) 1pt solid;\n",
       "  color: var(--sklearn-color-fitted-level-1);\n",
       "}\n",
       "\n",
       "/* On hover */\n",
       "div.sk-estimator:hover .sk-estimator-doc-link:hover,\n",
       ".sk-estimator-doc-link:hover,\n",
       "div.sk-label-container:hover .sk-estimator-doc-link:hover,\n",
       ".sk-estimator-doc-link:hover {\n",
       "  /* unfitted */\n",
       "  background-color: var(--sklearn-color-unfitted-level-3);\n",
       "  color: var(--sklearn-color-background);\n",
       "  text-decoration: none;\n",
       "}\n",
       "\n",
       "div.sk-estimator.fitted:hover .sk-estimator-doc-link.fitted:hover,\n",
       ".sk-estimator-doc-link.fitted:hover,\n",
       "div.sk-label-container:hover .sk-estimator-doc-link.fitted:hover,\n",
       ".sk-estimator-doc-link.fitted:hover {\n",
       "  /* fitted */\n",
       "  background-color: var(--sklearn-color-fitted-level-3);\n",
       "  color: var(--sklearn-color-background);\n",
       "  text-decoration: none;\n",
       "}\n",
       "\n",
       "/* Span, style for the box shown on hovering the info icon */\n",
       ".sk-estimator-doc-link span {\n",
       "  display: none;\n",
       "  z-index: 9999;\n",
       "  position: relative;\n",
       "  font-weight: normal;\n",
       "  right: .2ex;\n",
       "  padding: .5ex;\n",
       "  margin: .5ex;\n",
       "  width: min-content;\n",
       "  min-width: 20ex;\n",
       "  max-width: 50ex;\n",
       "  color: var(--sklearn-color-text);\n",
       "  box-shadow: 2pt 2pt 4pt #999;\n",
       "  /* unfitted */\n",
       "  background: var(--sklearn-color-unfitted-level-0);\n",
       "  border: .5pt solid var(--sklearn-color-unfitted-level-3);\n",
       "}\n",
       "\n",
       ".sk-estimator-doc-link.fitted span {\n",
       "  /* fitted */\n",
       "  background: var(--sklearn-color-fitted-level-0);\n",
       "  border: var(--sklearn-color-fitted-level-3);\n",
       "}\n",
       "\n",
       ".sk-estimator-doc-link:hover span {\n",
       "  display: block;\n",
       "}\n",
       "\n",
       "/* \"?\"-specific style due to the `<a>` HTML tag */\n",
       "\n",
       "#sk-container-id-12 a.estimator_doc_link {\n",
       "  float: right;\n",
       "  font-size: 1rem;\n",
       "  line-height: 1em;\n",
       "  font-family: monospace;\n",
       "  background-color: var(--sklearn-color-background);\n",
       "  border-radius: 1rem;\n",
       "  height: 1rem;\n",
       "  width: 1rem;\n",
       "  text-decoration: none;\n",
       "  /* unfitted */\n",
       "  color: var(--sklearn-color-unfitted-level-1);\n",
       "  border: var(--sklearn-color-unfitted-level-1) 1pt solid;\n",
       "}\n",
       "\n",
       "#sk-container-id-12 a.estimator_doc_link.fitted {\n",
       "  /* fitted */\n",
       "  border: var(--sklearn-color-fitted-level-1) 1pt solid;\n",
       "  color: var(--sklearn-color-fitted-level-1);\n",
       "}\n",
       "\n",
       "/* On hover */\n",
       "#sk-container-id-12 a.estimator_doc_link:hover {\n",
       "  /* unfitted */\n",
       "  background-color: var(--sklearn-color-unfitted-level-3);\n",
       "  color: var(--sklearn-color-background);\n",
       "  text-decoration: none;\n",
       "}\n",
       "\n",
       "#sk-container-id-12 a.estimator_doc_link.fitted:hover {\n",
       "  /* fitted */\n",
       "  background-color: var(--sklearn-color-fitted-level-3);\n",
       "}\n",
       "</style><div id=\"sk-container-id-12\" class=\"sk-top-container\"><div class=\"sk-text-repr-fallback\"><pre>PLSRegression(n_components=4)</pre><b>In a Jupyter environment, please rerun this cell to show the HTML representation or trust the notebook. <br />On GitHub, the HTML representation is unable to render, please try loading this page with nbviewer.org.</b></div><div class=\"sk-container\" hidden><div class=\"sk-item\"><div class=\"sk-estimator fitted sk-toggleable\"><input class=\"sk-toggleable__control sk-hidden--visually\" id=\"sk-estimator-id-14\" type=\"checkbox\" checked><label for=\"sk-estimator-id-14\" class=\"sk-toggleable__label fitted sk-toggleable__label-arrow fitted\">&nbsp;&nbsp;PLSRegression<a class=\"sk-estimator-doc-link fitted\" rel=\"noreferrer\" target=\"_blank\" href=\"https://scikit-learn.org/1.4/modules/generated/sklearn.cross_decomposition.PLSRegression.html\">?<span>Documentation for PLSRegression</span></a><span class=\"sk-estimator-doc-link fitted\">i<span>Fitted</span></span></label><div class=\"sk-toggleable__content fitted\"><pre>PLSRegression(n_components=4)</pre></div> </div></div></div></div>"
      ],
      "text/plain": [
       "PLSRegression(n_components=4)"
      ]
     },
     "execution_count": 86,
     "metadata": {},
     "output_type": "execute_result"
    }
   ],
   "source": [
    "from sklearn.linear_model import LinearRegression\n",
    "from sklearn.cross_decomposition import PLSRegression\n",
    "from sklearn.model_selection import GridSearchCV\n",
    "model = PLSRegression(4)\n",
    "model.fit(X_train_cars, y_train)"
   ]
  },
  {
   "cell_type": "code",
   "execution_count": 87,
   "metadata": {},
   "outputs": [],
   "source": [
    "y_pred = model.predict(X_test_cars)"
   ]
  },
  {
   "cell_type": "code",
   "execution_count": 88,
   "metadata": {},
   "outputs": [
    {
     "name": "stdout",
     "output_type": "stream",
     "text": [
      "r2: 0.393561455954081\n"
     ]
    },
    {
     "data": {
      "image/png": "[encoded data removed]",
      "text/plain": [
       "<Figure size 640x480 with 1 Axes>"
      ]
     },
     "metadata": {},
     "output_type": "display_data"
    }
   ],
   "source": [
    "from sklearn.metrics import r2_score\n",
    "print(\"r2:\",r2_score(y_test, y_pred))\n",
    "plt.scatter(y_pred, y_test, c = 'r')\n",
    "plt.xlabel(\"y_pred\")\n",
    "plt.ylabel(\"y_test\")\n",
    "plt.show()"
   ]
  }
 ],
 "metadata": {
  "kernelspec": {
   "display_name": "Python 3",
   "language": "python",
   "name": "python3"
  },
  "language_info": {
   "codemirror_mode": {
    "name": "ipython",
    "version": 3
   },
   "file_extension": ".py",
   "mimetype": "text/x-python",
   "name": "python",
   "nbconvert_exporter": "python",
   "pygments_lexer": "ipython3",
   "version": "3.11.6"
  }
 },
 "nbformat": 4,
 "nbformat_minor": 2
}
